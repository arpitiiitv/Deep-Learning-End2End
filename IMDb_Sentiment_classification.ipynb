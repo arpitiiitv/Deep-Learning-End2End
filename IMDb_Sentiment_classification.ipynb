{
  "nbformat": 4,
  "nbformat_minor": 0,
  "metadata": {
    "colab": {
      "name": "IMDb Sentiment classification.ipynb",
      "provenance": [],
      "authorship_tag": "ABX9TyOgXmrhWyPz+VypzpLzsXTv",
      "include_colab_link": true
    },
    "kernelspec": {
      "name": "python3",
      "display_name": "Python 3"
    },
    "accelerator": "GPU"
  },
  "cells": [
    {
      "cell_type": "markdown",
      "metadata": {
        "id": "view-in-github",
        "colab_type": "text"
      },
      "source": [
        "<a href=\"https://colab.research.google.com/github/arpitiiitv/Deep-Learning-End2End/blob/main/IMDb_Sentiment_classification.ipynb\" target=\"_parent\"><img src=\"https://colab.research.google.com/assets/colab-badge.svg\" alt=\"Open In Colab\"/></a>"
      ]
    },
    {
      "cell_type": "markdown",
      "metadata": {
        "id": "PAc15IFnZafn"
      },
      "source": [
        ""
      ]
    },
    {
      "cell_type": "markdown",
      "metadata": {
        "id": "GY623y2WZc_X"
      },
      "source": [
        "# **IMDb Sentiment classification**\n",
        "IMDb is the world's most popular and authoritative source for information on movies, TV shows and celebrities. It is owned by **AMAZON.COM**. \n",
        "People rates movies and gives their feedback about perticular movies on IMDb site. \n",
        "## **Problem** : Given a movie review, predict if it is positive review or negative review.\n",
        "\n",
        "## **Dataset** : I have used expert engineered dataset from keras. Which have 25000 training dataset.\n"
      ]
    },
    {
      "cell_type": "code",
      "metadata": {
        "id": "CRLvUMHoaHo0"
      },
      "source": [
        ""
      ],
      "execution_count": null,
      "outputs": []
    },
    {
      "cell_type": "markdown",
      "metadata": {
        "id": "fH69fEe8EZBt"
      },
      "source": [
        "# **IMDb dataset from keras**\n",
        " https://keras.io/datasets/#imdb-movie-reviews-sentiment-classification\n",
        " <br>\n",
        " <br>\n",
        " This is a dataset of **25,000 movies reviews** from IMDB, labeled by sentiment (positive/negative). Reviews have been preprocessed, and each review is encoded as a list of word indexes (integers). For convenience, words are indexed by overall frequency in the dataset, so that for instance the integer \"3\" encodes the 3rd most frequent word in the data. This allows for quick filtering operations such as: \"only consider the top 10,000 most common words, but eliminate the top 20 most common words\".\n",
        "\n",
        "As a convention, \"0\" does not stand for a specific word, but instead is used to encode any unknown word.\n",
        "\n",
        "oov_char: int. The out-of-vocabulary character. Words that were cut out because of the num_words or skip_top limits will be replaced with this character."
      ]
    },
    {
      "cell_type": "markdown",
      "metadata": {
        "id": "aAVxSMjxFStN"
      },
      "source": [
        "D_train= (Xi,Yi) where i:1->25000\n",
        "Xi is numeric vectors and Yi is 0 or 1."
      ]
    },
    {
      "cell_type": "markdown",
      "metadata": {
        "id": "ZlpjwwBdFSyl"
      },
      "source": [
        ""
      ]
    },
    {
      "cell_type": "code",
      "metadata": {
        "id": "uDKE7O8vaMCH"
      },
      "source": [
        "# Long Short Term Memory for sequence classification in the IMDB dataset\n",
        "# Importing Libraries\n",
        "import tensorflow as tf\n",
        "import numpy as np\n",
        "from keras.layers import Dropout\n",
        "from keras.models import Sequential\n",
        "from keras.datasets import imdb\n",
        "from keras.layers import LSTM\n",
        "from keras.layers import Dense\n",
        "from keras.layers.embeddings import Embedding\n",
        "from keras.preprocessing import sequence\n",
        "np.random.seed(7)"
      ],
      "execution_count": 1,
      "outputs": []
    },
    {
      "cell_type": "markdown",
      "metadata": {
        "id": "ECNxpBtwEW_t"
      },
      "source": [
        ""
      ]
    },
    {
      "cell_type": "code",
      "metadata": {
        "id": "pTnFpx31axlU"
      },
      "source": [
        "# load the dataset but only keep the top 6100 words, zero the rest\n",
        "top_words = 10000\n",
        "(X_train, y_train), (X_test, y_test) = imdb.load_data(num_words = top_words)"
      ],
      "execution_count": 2,
      "outputs": []
    },
    {
      "cell_type": "code",
      "metadata": {
        "id": "a96rJ8LsbeOJ",
        "outputId": "7c3d03ff-82b8-4fdb-b14b-cb00b5105121",
        "colab": {
          "base_uri": "https://localhost:8080/"
        }
      },
      "source": [
        "print('Training dataset size: ',X_train.shape,y_train.shape)\n",
        "print('Test dataset size: ',X_test.shape,y_test.shape)"
      ],
      "execution_count": 3,
      "outputs": [
        {
          "output_type": "stream",
          "text": [
            "Training dataset size:  (25000,) (25000,)\n",
            "Test dataset size:  (25000,) (25000,)\n"
          ],
          "name": "stdout"
        }
      ]
    },
    {
      "cell_type": "code",
      "metadata": {
        "id": "Rm8JDWKTbp5B",
        "outputId": "c3837969-e5d8-427f-e12c-198d55c382f9",
        "colab": {
          "base_uri": "https://localhost:8080/"
        }
      },
      "source": [
        "print(\"First training data: \",X_train[1])\n",
        "print(\"Number of words in first review: \",len(X_train[1]))\n",
        "print(\"Maximum frequency of words: \",max(X_train[1]))"
      ],
      "execution_count": 4,
      "outputs": [
        {
          "output_type": "stream",
          "text": [
            "First training data:  [1, 194, 1153, 194, 8255, 78, 228, 5, 6, 1463, 4369, 5012, 134, 26, 4, 715, 8, 118, 1634, 14, 394, 20, 13, 119, 954, 189, 102, 5, 207, 110, 3103, 21, 14, 69, 188, 8, 30, 23, 7, 4, 249, 126, 93, 4, 114, 9, 2300, 1523, 5, 647, 4, 116, 9, 35, 8163, 4, 229, 9, 340, 1322, 4, 118, 9, 4, 130, 4901, 19, 4, 1002, 5, 89, 29, 952, 46, 37, 4, 455, 9, 45, 43, 38, 1543, 1905, 398, 4, 1649, 26, 6853, 5, 163, 11, 3215, 2, 4, 1153, 9, 194, 775, 7, 8255, 2, 349, 2637, 148, 605, 2, 8003, 15, 123, 125, 68, 2, 6853, 15, 349, 165, 4362, 98, 5, 4, 228, 9, 43, 2, 1157, 15, 299, 120, 5, 120, 174, 11, 220, 175, 136, 50, 9, 4373, 228, 8255, 5, 2, 656, 245, 2350, 5, 4, 9837, 131, 152, 491, 18, 2, 32, 7464, 1212, 14, 9, 6, 371, 78, 22, 625, 64, 1382, 9, 8, 168, 145, 23, 4, 1690, 15, 16, 4, 1355, 5, 28, 6, 52, 154, 462, 33, 89, 78, 285, 16, 145, 95]\n",
            "Number of words in first review:  189\n",
            "Maximum frequency of words:  9837\n"
          ],
          "name": "stdout"
        }
      ]
    },
    {
      "cell_type": "code",
      "metadata": {
        "id": "knxSizifcAfJ"
      },
      "source": [
        ""
      ],
      "execution_count": 4,
      "outputs": []
    },
    {
      "cell_type": "markdown",
      "metadata": {
        "id": "T_R2Frxscbh4"
      },
      "source": [
        "# Padding and Truncation\n",
        "### **Padding:** \n",
        "It is an operation which is used to make fixed size length for all reviews, let's say we want all the reviews to be of length of **K**, so we append **0** to the reviews untill its length becomes **K**.\n",
        "If we will not use padding, we can perform all the tast but it will take more time as compared to padded dataset, without padding optimization problem will be like SGD with batch size equal to 1 and if we are using padding we can use SGD with some batch size for fast convergence.\n",
        "\n",
        "### **Truncation:**\n",
        "If some reviews contains more than **K**(length after padding), it will remove last words to make reviews of same size.\n"
      ]
    },
    {
      "cell_type": "markdown",
      "metadata": {
        "id": "c4dg0m0kMEfw"
      },
      "source": [
        "## **Embeddings:**\n",
        "Credit : https://machinelearningmastery.com/use-word-embedding-layers-deep-learning-keras/\n",
        "\n",
        "Keras offers an Embedding layer that can be used for neural networks on text data.\n",
        "\n",
        "It requires that the **input data be integer encoded**, so that **each word is represented by a unique integer**. This data preparation step can be performed using the Tokenizer API also provided with Keras.\n",
        "\n",
        "The Embedding layer is initialized with random weights and will learn an embedding for all of the words in the training dataset.\n",
        "\n",
        "The Embedding layer is defined as the first hidden layer of a network. It must specify 3 arguments:<br>\n",
        "**input_dim:** This is the size of the vocabulary in the text data. For example, if your data is integer encoded to values between 0-10, then the size of the vocabulary would be 11 words.\n",
        "<br>\n",
        "**output_dim:** This is the size of the vector space in which words will be embedded. It defines the size of the output vectors from this layer for each word. For example, it could be 32 or 100 or even larger. Test different values for your problem.<br>\n",
        "**input_length:** This is the length of input sequences, as you would define for any input layer of a Keras model. For example, if all of your input documents are comprised of 1000 words, this would be 1000.\n",
        "\n",
        "For example, below we define an Embedding layer with a vocabulary of 200 (e.g. integer encoded words from 0 to 199, inclusive), a vector space of 32 dimensions in which words will be embedded, and input documents that have 50 words each.\n",
        "\n",
        "Keras Docs: https://keras.io/api/layers/core_layers/embedding/#embedding"
      ]
    },
    {
      "cell_type": "markdown",
      "metadata": {
        "id": "R92QYr1kO-Ov"
      },
      "source": [
        "# Padding and Truncation\n",
        "Taking 800 as maximum length of any review."
      ]
    },
    {
      "cell_type": "code",
      "metadata": {
        "id": "reW77olTcfCF",
        "outputId": "8c31da15-e431-4e88-eebb-547da552ede3",
        "colab": {
          "base_uri": "https://localhost:8080/"
        }
      },
      "source": [
        "# truncate and/or pad input sequences\n",
        "max_review_length = 700\n",
        "X_train = sequence.pad_sequences(X_train, maxlen=max_review_length)\n",
        "X_test = sequence.pad_sequences(X_test, maxlen=max_review_length)\n",
        "print('-----------------------------------------------------------------------\\n')\n",
        "print('Training dataset size: ',X_train.shape,y_train.shape)\n",
        "print('-----------------------------------------------------------------------\\n')\n",
        "print('Test dataset size: ',X_test.shape,y_test.shape)\n",
        "print('-----------------------------------------------------------------------\\n')\n",
        "print(\"Length of review after padding: \",len(X_train[1]))\n",
        "print('-----------------------------------------------------------------------\\n\\n\\n')\n"
      ],
      "execution_count": 5,
      "outputs": [
        {
          "output_type": "stream",
          "text": [
            "-----------------------------------------------------------------------\n",
            "\n",
            "Training dataset size:  (25000, 700) (25000,)\n",
            "-----------------------------------------------------------------------\n",
            "\n",
            "Test dataset size:  (25000, 700) (25000,)\n",
            "-----------------------------------------------------------------------\n",
            "\n",
            "Length of review after padding:  700\n",
            "-----------------------------------------------------------------------\n",
            "\n",
            "\n",
            "\n"
          ],
          "name": "stdout"
        }
      ]
    },
    {
      "cell_type": "markdown",
      "metadata": {
        "id": "l098jCG4PvHv"
      },
      "source": [
        "# **Crating model architecture**"
      ]
    },
    {
      "cell_type": "code",
      "metadata": {
        "id": "dsoQLO-gc4VY",
        "outputId": "5830fe15-c09c-4a43-a11d-02a1006cdb34",
        "colab": {
          "base_uri": "https://localhost:8080/"
        }
      },
      "source": [
        "from keras.optimizers import Adam\n",
        "# model\n",
        "# each words is represented as 12 dim vectors\n",
        "nb_epoch = 25\n",
        "batch_size = 128\n",
        "embedding_vector_length = 12\n",
        "# Taking sequential model\n",
        "model = Sequential()\n",
        "# Embedding the input sequence\n",
        "model.add(Embedding(top_words+1, embedding_vector_length, input_length=max_review_length))\n",
        "# using dropout to avoid overfitting\n",
        "model.add(Dropout(0.90))\n",
        "# adding 80 LSTM cells\n",
        "model.add(LSTM(80))\n",
        "model.add(Dense(1,activation='sigmoid'))\n",
        "optimizer = Adam(learning_rate=0.0001)\n",
        "model.compile(loss='binary_crossentropy', optimizer=optimizer, metrics=['accuracy'])\n",
        "print(model.summary())\n",
        "#Refer: https://datascience.stackexchange.com/questions/10615/number-of-parameters-in-an-lstm-model"
      ],
      "execution_count": 18,
      "outputs": [
        {
          "output_type": "stream",
          "text": [
            "Model: \"sequential_3\"\n",
            "_________________________________________________________________\n",
            "Layer (type)                 Output Shape              Param #   \n",
            "=================================================================\n",
            "embedding_3 (Embedding)      (None, 700, 12)           120012    \n",
            "_________________________________________________________________\n",
            "dropout_3 (Dropout)          (None, 700, 12)           0         \n",
            "_________________________________________________________________\n",
            "lstm_3 (LSTM)                (None, 80)                29760     \n",
            "_________________________________________________________________\n",
            "dense_3 (Dense)              (None, 1)                 81        \n",
            "=================================================================\n",
            "Total params: 149,853\n",
            "Trainable params: 149,853\n",
            "Non-trainable params: 0\n",
            "_________________________________________________________________\n",
            "None\n"
          ],
          "name": "stdout"
        }
      ]
    },
    {
      "cell_type": "code",
      "metadata": {
        "id": "VIR_f5BGdWsq",
        "outputId": "f24a7d4d-3469-4b9d-d6e5-4714ae9168b6",
        "colab": {
          "base_uri": "https://localhost:8080/"
        }
      },
      "source": [
        "history = model.fit(X_train, y_train, epochs=nb_epoch, batch_size=batch_size, verbose=1, validation_data=(X_test,y_test))\n",
        "# Final evaluation of the model\n",
        "scores = model.evaluate(X_test, y_test, verbose=0)\n",
        "print(\"Accuracy: %.2f%%\" % (scores[1]*100))\n"
      ],
      "execution_count": 19,
      "outputs": [
        {
          "output_type": "stream",
          "text": [
            "Epoch 1/25\n",
            "196/196 [==============================] - 10s 52ms/step - loss: 0.6932 - accuracy: 0.5007 - val_loss: 0.6929 - val_accuracy: 0.5390\n",
            "Epoch 2/25\n",
            "196/196 [==============================] - 10s 50ms/step - loss: 0.6924 - accuracy: 0.5275 - val_loss: 0.6909 - val_accuracy: 0.5551\n",
            "Epoch 3/25\n",
            "196/196 [==============================] - 10s 50ms/step - loss: 0.6713 - accuracy: 0.5939 - val_loss: 0.6122 - val_accuracy: 0.7004\n",
            "Epoch 4/25\n",
            "196/196 [==============================] - 10s 50ms/step - loss: 0.5999 - accuracy: 0.6814 - val_loss: 0.4930 - val_accuracy: 0.7905\n",
            "Epoch 5/25\n",
            "196/196 [==============================] - 10s 50ms/step - loss: 0.5250 - accuracy: 0.7409 - val_loss: 0.4281 - val_accuracy: 0.8294\n",
            "Epoch 6/25\n",
            "196/196 [==============================] - 10s 50ms/step - loss: 0.4866 - accuracy: 0.7672 - val_loss: 0.3977 - val_accuracy: 0.8448\n",
            "Epoch 7/25\n",
            "196/196 [==============================] - 10s 50ms/step - loss: 0.4563 - accuracy: 0.7877 - val_loss: 0.3802 - val_accuracy: 0.8528\n",
            "Epoch 8/25\n",
            "196/196 [==============================] - 10s 50ms/step - loss: 0.4373 - accuracy: 0.7987 - val_loss: 0.3604 - val_accuracy: 0.8548\n",
            "Epoch 9/25\n",
            "196/196 [==============================] - 10s 50ms/step - loss: 0.4216 - accuracy: 0.8107 - val_loss: 0.3538 - val_accuracy: 0.8622\n",
            "Epoch 10/25\n",
            "196/196 [==============================] - 10s 50ms/step - loss: 0.4064 - accuracy: 0.8169 - val_loss: 0.3465 - val_accuracy: 0.8594\n",
            "Epoch 11/25\n",
            "196/196 [==============================] - 10s 50ms/step - loss: 0.3997 - accuracy: 0.8202 - val_loss: 0.3385 - val_accuracy: 0.8682\n",
            "Epoch 12/25\n",
            "196/196 [==============================] - 10s 50ms/step - loss: 0.3850 - accuracy: 0.8295 - val_loss: 0.3273 - val_accuracy: 0.8720\n",
            "Epoch 13/25\n",
            "196/196 [==============================] - 10s 51ms/step - loss: 0.3698 - accuracy: 0.8393 - val_loss: 0.3253 - val_accuracy: 0.8691\n",
            "Epoch 14/25\n",
            "196/196 [==============================] - 10s 50ms/step - loss: 0.3639 - accuracy: 0.8409 - val_loss: 0.3200 - val_accuracy: 0.8770\n",
            "Epoch 15/25\n",
            "196/196 [==============================] - 10s 50ms/step - loss: 0.3589 - accuracy: 0.8445 - val_loss: 0.3070 - val_accuracy: 0.8783\n",
            "Epoch 16/25\n",
            "196/196 [==============================] - 10s 50ms/step - loss: 0.3505 - accuracy: 0.8490 - val_loss: 0.3153 - val_accuracy: 0.8758\n",
            "Epoch 17/25\n",
            "196/196 [==============================] - 10s 50ms/step - loss: 0.3454 - accuracy: 0.8524 - val_loss: 0.2986 - val_accuracy: 0.8816\n",
            "Epoch 18/25\n",
            "196/196 [==============================] - 10s 50ms/step - loss: 0.3370 - accuracy: 0.8543 - val_loss: 0.2987 - val_accuracy: 0.8811\n",
            "Epoch 19/25\n",
            "196/196 [==============================] - 10s 50ms/step - loss: 0.3333 - accuracy: 0.8570 - val_loss: 0.3051 - val_accuracy: 0.8831\n",
            "Epoch 20/25\n",
            "196/196 [==============================] - 10s 50ms/step - loss: 0.3324 - accuracy: 0.8580 - val_loss: 0.3155 - val_accuracy: 0.8816\n",
            "Epoch 21/25\n",
            "196/196 [==============================] - 10s 50ms/step - loss: 0.3213 - accuracy: 0.8649 - val_loss: 0.2963 - val_accuracy: 0.8853\n",
            "Epoch 22/25\n",
            "196/196 [==============================] - 10s 50ms/step - loss: 0.3196 - accuracy: 0.8635 - val_loss: 0.2949 - val_accuracy: 0.8829\n",
            "Epoch 23/25\n",
            "196/196 [==============================] - 10s 51ms/step - loss: 0.3153 - accuracy: 0.8664 - val_loss: 0.2888 - val_accuracy: 0.8856\n",
            "Epoch 24/25\n",
            "196/196 [==============================] - 10s 50ms/step - loss: 0.3151 - accuracy: 0.8682 - val_loss: 0.2929 - val_accuracy: 0.8875\n",
            "Epoch 25/25\n",
            "196/196 [==============================] - 10s 50ms/step - loss: 0.3084 - accuracy: 0.8716 - val_loss: 0.2832 - val_accuracy: 0.8898\n",
            "Accuracy: 88.98%\n"
          ],
          "name": "stdout"
        }
      ]
    },
    {
      "cell_type": "code",
      "metadata": {
        "id": "zDePsoVCfNLq"
      },
      "source": [
        "# this function is used to update the plots for each epoch and error\n",
        "import matplotlib.pyplot as plt\n",
        "def plt_dynamic(x, vy, ty, ax):\n",
        "    ax.plot(x, vy, 'b', label=\"Validation Loss\")\n",
        "    ax.plot(x, ty, 'r', label=\"Train Loss\")\n",
        "    plt.legend()\n",
        "    fig.canvas.draw()"
      ],
      "execution_count": 20,
      "outputs": []
    },
    {
      "cell_type": "code",
      "metadata": {
        "id": "xKf-xiuBhQyA",
        "outputId": "1f69bf00-43f1-468b-b0f0-2cc5d139a171",
        "colab": {
          "base_uri": "https://localhost:8080/",
          "height": 313
        }
      },
      "source": [
        "score = model.evaluate(X_test, y_test, verbose=0) \n",
        "print('Test score:', score[0]) \n",
        "print('Test accuracy:', score[1])\n",
        "\n",
        "fig,ax = plt.subplots(1,1)\n",
        "ax.set_xlabel('epoch') ; ax.set_ylabel('Binary Crossentropy Loss')\n",
        "\n",
        "# list of epoch numbers\n",
        "x = list(range(1,nb_epoch+1))\n",
        "\n",
        "vy = history.history['val_loss']\n",
        "ty = history.history['loss']\n",
        "plt_dynamic(x, vy, ty, ax)"
      ],
      "execution_count": 21,
      "outputs": [
        {
          "output_type": "stream",
          "text": [
            "Test score: 0.28318729996681213\n",
            "Test accuracy: 0.8898400068283081\n"
          ],
          "name": "stdout"
        },
        {
          "output_type": "display_data",
          "data": {
            "image/png": "[encoded data removed]",
            "text/plain": [
              "<Figure size 432x288 with 1 Axes>"
            ]
          },
          "metadata": {
            "tags": [],
            "needs_background": "light"
          }
        }
      ]
    },
    {
      "cell_type": "code",
      "metadata": {
        "id": "GfaY9O-0VPFO"
      },
      "source": [
        " "
      ],
      "execution_count": 21,
      "outputs": []
    },
    {
      "cell_type": "markdown",
      "metadata": {
        "id": "FcYCejNbeI5o"
      },
      "source": [
        "# **Key Observations:**\n",
        "### **LSTM based model got 88.98% accuracy after 25 epochs for IMDb sentiment classification task.**\n",
        "\n",
        "*   Model can easily overfit if we use more complex model. Using 32 length embedding model was overfitting because It has less amount of data.\n",
        "*   Using Stacked LSTM worsten the performance in this case.\n",
        "* Without dropout it generalization error was very high, Dropout reduced the overfitting.\n",
        "* The indication we  get from zig-zag pattern is that the learning rate is too large, you should decrease it until the loss starts to decrease. It seems that your learning rate is too large, making your parameters oscillate wildly.\n",
        "\n",
        "\n",
        "\n"
      ]
    },
    {
      "cell_type": "code",
      "metadata": {
        "id": "eOvLj2N8Yftg"
      },
      "source": [
        ""
      ],
      "execution_count": 21,
      "outputs": []
    },
    {
      "cell_type": "markdown",
      "metadata": {
        "id": "K_LpOBGDUhUX"
      },
      "source": [
        ""
      ]
    }
  ]
}